{
 "cells": [
  {
   "cell_type": "code",
   "execution_count": 1,
   "metadata": {},
   "outputs": [],
   "source": [
    "import numpy as np"
   ]
  },
  {
   "cell_type": "code",
   "execution_count": 2,
   "metadata": {},
   "outputs": [],
   "source": [
    "#Q1- Explain the different types of data (qualitative and quantitative) and provide examples of each. Discuss nominal, ordinal, interval, and ratio scales.\n",
    "\n",
    "# #Types of Data\n",
    "#1- Qualitative Data:\n",
    "# Definition: Descriptive data that characterizes but does not measure attributes, properties, or characteristics.\n",
    "# Examples:\n",
    "# Colors of cars in a parking lot (red, blue, green)\n",
    "\n",
    "#2- Quantitative Data:\n",
    "# Definition: Numerical data that can be measured and quantified.\n",
    "# Examples:\n",
    "# Height of students in a class (150 cm, 160 cm, 170 cm)\n",
    "\n",
    "#Scales of Measurement\n",
    "#1- Nominal Scale:\n",
    "# Definition: Categorizes data without any order or ranking.\n",
    "# Examples:\n",
    "# Gender (male, female, non-binary)\n",
    "\n",
    "#2- Ordinal Scale:\n",
    "#Definition: Categorizes data with a meaningful order but without a consistent difference between categories.\n",
    "#Examples:\n",
    "#Movie ratings (poor, fair, good, excellent)\n",
    "\n",
    "#3- Interval Scale:\n",
    "#Definition: Measures data with meaningful intervals between values but no true zero point.\n",
    "#Examples:\n",
    "#Temperature in Celsius or Fahrenheit (0°C, 10°C, 20°C)\n",
    "\n",
    "#4- Ratio Scale:\n",
    "#Definition: Measures data with meaningful intervals and a true zero point, allowing for the calculation of ratios.\n",
    "#Examples:\n",
    "#Weight (0 kg, 50 kg, 100 kg)"
   ]
  },
  {
   "cell_type": "code",
   "execution_count": 8,
   "metadata": {},
   "outputs": [
    {
     "data": {
      "text/plain": [
       "np.float64(4.333333333333333)"
      ]
     },
     "execution_count": 8,
     "metadata": {},
     "output_type": "execute_result"
    }
   ],
   "source": [
    "#Q2- What are the measures of central tendency, and when should you use each? Discuss the mean, median, and mode with examples and situations where each is appropriate.\n",
    "\n",
    "#1 Mean:-\n",
    "#The mean (or average) is calculated by adding up all the values in a dataset and then dividing by the number of values. It is best used when the data is symmetrically distributed without outliers.\n",
    "\n",
    "#2- Median:-\n",
    "#The median is the middle value in a dataset when the values are arranged in ascending or descending order. If there is an even number of observations, the median is the average of the two middle numbers. It is useful when the data is skewed or contains outliers.\n",
    "\n",
    "#3- Mode:-\n",
    "#The mode is the value that appears most frequently in a dataset. It is particularly useful for categorical data where we wish to know the most common category.\n",
    "\n",
    "data = [4, 2, 2, 3, 7, 8]\n",
    "np.mean(data)"
   ]
  },
  {
   "cell_type": "code",
   "execution_count": 7,
   "metadata": {},
   "outputs": [
    {
     "data": {
      "text/plain": [
       "np.float64(3.5)"
      ]
     },
     "execution_count": 7,
     "metadata": {},
     "output_type": "execute_result"
    }
   ],
   "source": [
    "np.median(data)"
   ]
  },
  {
   "cell_type": "code",
   "execution_count": 10,
   "metadata": {},
   "outputs": [],
   "source": [
    "from scipy import stats"
   ]
  },
  {
   "cell_type": "code",
   "execution_count": 11,
   "metadata": {},
   "outputs": [],
   "source": [
    "import statistics"
   ]
  },
  {
   "cell_type": "code",
   "execution_count": 12,
   "metadata": {},
   "outputs": [
    {
     "data": {
      "text/plain": [
       "2"
      ]
     },
     "execution_count": 12,
     "metadata": {},
     "output_type": "execute_result"
    }
   ],
   "source": [
    "statistics.mode(data)"
   ]
  },
  {
   "cell_type": "code",
   "execution_count": 13,
   "metadata": {},
   "outputs": [],
   "source": [
    "#Q3-Explain the concept of dispersion. How do variance and standard deviation measure the spread of data?\n",
    "\n",
    "# Key Measures of Dispersion\n",
    "#1- Range: The difference between the maximum and minimum values in a dataset.\n",
    "#2- Interquartile Range (IQR): The range within which the middle 50% of data points lie, calculated as the difference between the third quartile (Q3) and the first quartile (Q1).\n",
    "#3- Variance: The average of the squared differences between each data point and the mean.\n",
    "#4- Standard Deviation: The square root of the variance, providing a measure of dispersion in the same units as the data.\n",
    "\n",
    "#Variance and Standard Deviation\n",
    "#Variance measures the average squared deviation of each data point from the mean.\n",
    "\n",
    "#Standard Deviation is the square root of the variance and provides a measure of dispersion in the same units as the data."
   ]
  },
  {
   "cell_type": "code",
   "execution_count": 14,
   "metadata": {},
   "outputs": [],
   "source": [
    "#Q4-What is a box plot, and what can it tell you about the distribution of data?\n",
    "\n",
    "# box plot:-A box plot, also known as a box-and-whisker plot, is a graphical representation that summarizes the distribution of a dataset.\n",
    "\n",
    "#1- Five-Number Summary: It displays the minimum, first quartile (Q1), median, third quartile (Q3), and maximum values of the dataset.\n",
    "#2- Interquartile Range (IQR): The box itself represents the IQR, which is the range between Q1 and Q3. This shows where the middle 50% of the data lies.\n",
    "#3- Median: A line inside the box indicates the median (the middle value of the dataset).\n",
    "#4- Whiskers: These lines extend from the box to the minimum and maximum values, excluding outliers.\n",
    "#5- Outliers: Points outside the whiskers are considered outliers and are often plotted as individual dots.\n"
   ]
  },
  {
   "cell_type": "code",
   "execution_count": 15,
   "metadata": {},
   "outputs": [],
   "source": [
    "#Q5-Discuss the role of random sampling in making inferences about populations.\n",
    "\n",
    "#1- Representativeness:-\n",
    "#Random sampling ensures that every member of the population has an equal chance of being selected.\n",
    "\n",
    "#2- Reducing Bias:-\n",
    "#By randomly selecting samples, the impact of confounding variables is minimized.\n",
    "\n",
    "#3- Generalizability:-\n",
    "#When a sample is representative, the findings from the sample can be generalized to the larger population.\n",
    "\n",
    "#4-  Statistical Validity:-\n",
    "#Random sampling enhances the internal and external validity of the research.\n",
    "\n",
    "#5- Practicality:-\n",
    "#In many cases, it is impractical or impossible to study an entire population due to constraints like time, cost, and accessibility.\n",
    "\n",
    "#6-  Estimating Population Parameters:-\n",
    "#Random samples are used to estimate population parameters."
   ]
  },
  {
   "cell_type": "code",
   "execution_count": 16,
   "metadata": {},
   "outputs": [],
   "source": [
    "#Q6- Explain the concept of skewness and its types. How does skewness affect the interpretation of data?\n",
    "\n",
    "# Skewness- Skewness is a measure of the asymmetry of the probability distribution of a real-valued random variable about its mean. It indicates whether the data points are skewed to the left (negative skew) or to the right (positive skew) of the mean.\n",
    "\n",
    "#Types of Skewness\n",
    "#1- Positive Skewness (Right Skew)\n",
    "#The tail on the right side of the distribution is longer or fatter than the left side.\n",
    "\n",
    "#2- Negative Skewness (Left Skew)\n",
    "#The tail on the left side of the distribution is longer or fatter than the right side.\n",
    "\n",
    "#3- Zero Skewness (Symmetrical Distribution)\n",
    "#The distribution is perfectly symmetrical around the mean.\n",
    "#The mean, median, and mode are all equal.\n",
    "\n",
    "#Interpretation of Skewness\n",
    "#1- Positive Skewness: Indicates that the data are spread out more to the right of the mean. \n",
    "\n",
    "#2-Negative Skewness: Indicates that the data are spread out more to the left of the mean.\n",
    "\n",
    "#3- Zero Skewness: Indicates a symmetrical distribution, which is often assumed in many statistical methods."
   ]
  },
  {
   "cell_type": "code",
   "execution_count": 17,
   "metadata": {},
   "outputs": [],
   "source": [
    "#Q7-What is the interquartile range (IQR), and how is it used to detect outliers?\n",
    "\n",
    "#The interquartile range (IQR) is a measure of statistical dispersion, representing the range within which the middle 50% of the data lies. It is calculated as the difference between the 75th percentile (Q3) and the 25th percentile (Q1)\n",
    "\n",
    "#Using IQR to Detect Outliers\n",
    "#Outliers are data points that fall significantly outside the range of the rest of the data. The IQR method is a common technique to identify these outliers.\n",
    "\n",
    "#Calculate Q1 and Q3: Determine the 25th percentile (Q1) and the 75th percentile (Q3) of the dataset.\n",
    "\n",
    "#Compute the IQR: Subtract Q1 from Q3.\n",
    "#Determine the Lower and Upper Bounds.\n",
    "\n",
    "#Identify Outliers: Any data point below the lower bound or above the upper bound is considered an outlier."
   ]
  },
  {
   "cell_type": "code",
   "execution_count": 18,
   "metadata": {},
   "outputs": [],
   "source": [
    "#Q8- Discuss the conditions under which the binomial distribution is used.\n",
    "\n",
    "#The binomial distribution is used under specific conditions. Here are the key criteria.\n",
    "\n",
    "#1-Fixed Number of Trials: The experiment must have a set number of trials, denoted by ( n ). For example, flipping a coin 10 times.\n",
    "#2-Independent Trials: Each trial must be independent of the others. The outcome of one trial should not affect the outcome of another.\n",
    "#3-Two Possible Outcomes: Each trial should result in one of two outcomes, often labeled as “success” and “failure”. For instance, getting heads or tails in a coin flip.\n",
    "\n"
   ]
  },
  {
   "cell_type": "code",
   "execution_count": 19,
   "metadata": {},
   "outputs": [],
   "source": [
    "#Q9- Explain the properties of the normal distribution and the empirical rule (68-95-99.7 rule).\n",
    "\n",
    "#Properties of the Normal Distribution\n",
    "#1-Symmetry: The normal distribution is symmetric around its mean.\n",
    "\n",
    "#2-Mean, Median, and Mode: In a normal distribution, the mean, median, and mode are all equal and located at the center of the distribution.\n",
    "\n",
    "#The Empirical Rule (68-95-99.7 Rule)\n",
    "#The empirical rule is a handy way to understand the spread of data in a normal distribution:\n",
    "\n",
    "#1- 68% of the data falls within one standard deviation of the mean.\n",
    "#2- 95% of the data falls within two standard deviations of the mean.\n",
    "#3- 99.7% of the data falls within three standard deviations of the mean."
   ]
  },
  {
   "cell_type": "code",
   "execution_count": 20,
   "metadata": {},
   "outputs": [],
   "source": [
    "#Q10-Provide a real-life example of a Poisson process and calculate the probability for a specific event.\n",
    "\n",
    "#A common real-life example of a Poisson process is the number of calls received by a call center per hour. Let’s say a call center receives an average of 10 calls per hour.\n",
    "\n",
    "#To calculate the probability of receiving exactly 15 calls in an hour, we can use the Poisson probability formula.\n",
    "\n"
   ]
  },
  {
   "cell_type": "code",
   "execution_count": 21,
   "metadata": {},
   "outputs": [],
   "source": [
    "#Q11-Explain what a random variable is and differentiate between discrete and continuous random variables.\n",
    "\n",
    "#A random variable is a numerical description of the outcome of a random phenomenon.\n",
    "\n",
    "#Types of Random Variables\n",
    "#Discrete Random Variables:\n",
    "#Definition: A discrete random variable can take on a countable number of distinct values. These values are often integers.\n",
    "\n",
    "#Continuous Random Variables:\n",
    "#Definition: A continuous random variable can take on an infinite number of possible values within a given range. These values are typically real numbers.\n",
    "\n"
   ]
  },
  {
   "cell_type": "code",
   "execution_count": 22,
   "metadata": {},
   "outputs": [
    {
     "name": "stdout",
     "output_type": "stream",
     "text": [
      "Note: you may need to restart the kernel to use updated packages.Requirement already satisfied: pandas in c:\\users\\suraj\\appdata\\local\\programs\\python\\python312\\lib\\site-packages (2.2.3)\n",
      "Requirement already satisfied: numpy>=1.26.0 in c:\\users\\suraj\\appdata\\local\\programs\\python\\python312\\lib\\site-packages (from pandas) (2.1.1)\n",
      "Requirement already satisfied: python-dateutil>=2.8.2 in c:\\users\\suraj\\appdata\\local\\programs\\python\\python312\\lib\\site-packages (from pandas) (2.9.0.post0)\n",
      "Requirement already satisfied: pytz>=2020.1 in c:\\users\\suraj\\appdata\\local\\programs\\python\\python312\\lib\\site-packages (from pandas) (2024.2)\n",
      "Requirement already satisfied: tzdata>=2022.7 in c:\\users\\suraj\\appdata\\local\\programs\\python\\python312\\lib\\site-packages (from pandas) (2024.2)\n",
      "Requirement already satisfied: six>=1.5 in c:\\users\\suraj\\appdata\\local\\programs\\python\\python312\\lib\\site-packages (from python-dateutil>=2.8.2->pandas) (1.16.0)\n",
      "\n"
     ]
    },
    {
     "name": "stderr",
     "output_type": "stream",
     "text": [
      "\n",
      "[notice] A new release of pip is available: 24.0 -> 24.2\n",
      "[notice] To update, run: python.exe -m pip install --upgrade pip\n"
     ]
    }
   ],
   "source": [
    "pip install pandas\n"
   ]
  },
  {
   "cell_type": "code",
   "execution_count": 23,
   "metadata": {},
   "outputs": [
    {
     "name": "stdout",
     "output_type": "stream",
     "text": [
      "Covariance: 42.5\n",
      "Correlation: 0.9705574414049347\n"
     ]
    }
   ],
   "source": [
    "#Q12- Provide an example dataset, calculate both covariance and correlation, and interpret the results.\n",
    "import numpy as np\n",
    "import pandas as pd\n",
    "\n",
    "# Creating the dataset\n",
    "data = {'Hours_Studied': [2, 3, 5, 7, 8],\n",
    "        'Scores': [50, 60, 80, 85, 90]}\n",
    "df = pd.DataFrame(data)\n",
    "\n",
    "# Calculating covariance\n",
    "cov_matrix = np.cov(df['Hours_Studied'], df['Scores'])\n",
    "covariance = cov_matrix[0, 1]\n",
    "\n",
    "# Calculating correlation\n",
    "correlation = np.corrcoef(df['Hours_Studied'], df['Scores'])[0, 1]\n",
    "\n",
    "print(f\"Covariance: {covariance}\")\n",
    "print(f\"Correlation: {correlation}\")\n"
   ]
  },
  {
   "cell_type": "code",
   "execution_count": null,
   "metadata": {},
   "outputs": [],
   "source": []
  }
 ],
 "metadata": {
  "kernelspec": {
   "display_name": "Python 3",
   "language": "python",
   "name": "python3"
  },
  "language_info": {
   "codemirror_mode": {
    "name": "ipython",
    "version": 3
   },
   "file_extension": ".py",
   "mimetype": "text/x-python",
   "name": "python",
   "nbconvert_exporter": "python",
   "pygments_lexer": "ipython3",
   "version": "3.12.4"
  }
 },
 "nbformat": 4,
 "nbformat_minor": 2
}
